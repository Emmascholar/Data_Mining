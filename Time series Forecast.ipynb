{
 "cells": [
  {
   "cell_type": "markdown",
   "metadata": {},
   "source": [
    "# importing the files from directory"
   ]
  },
  {
   "cell_type": "code",
   "execution_count": 1,
   "metadata": {},
   "outputs": [],
   "source": [
    "import pandas as pd\n",
    "import os\n",
    "import numpy as np\n", 
    "import re\n",
    "from sklearn.experimental import enable_iterative_imputer\n",
    "from sklearn.impute import IterativeImputer\n",
    "from sklearn.impute import SimpleImputer\n",
    "from numpy import NaN"
   ]
  },
  {
   "cell_type": "code",
   "execution_count": 2,
   "metadata": {},
   "outputs": [
    {
     "data": {
      "text/html": [
       "<div>\n",
       "<style scoped>\n",
       "    .dataframe tbody tr th:only-of-type {\n",
       "        vertical-align: middle;\n",
       "    }\n",
       "\n",
       "    .dataframe tbody tr th {\n",
       "        vertical-align: top;\n",
       "    }\n",
       "\n",
       "    .dataframe thead th {\n",
       "        text-align: right;\n",
       "    }\n",
       "</style>\n",
       "<table border=\"1\" class=\"dataframe\">\n",
       "  <thead>\n",
       "    <tr style=\"text-align: right;\">\n",
       "      <th></th>\n",
       "      <th>Order ID</th>\n",
       "      <th>Product</th>\n",
       "      <th>Quantity Ordered</th>\n",
       "      <th>Price Each</th>\n",
       "      <th>Order Date</th>\n",
       "      <th>Purchase Address</th>\n",
       "    </tr>\n",
       "  </thead>\n",
       "  <tbody>\n",
       "    <tr>\n",
       "      <th>0</th>\n",
       "      <td>176558</td>\n",
       "      <td>USB-C Charging Cable</td>\n",
       "      <td>2</td>\n",
       "      <td>11.95</td>\n",
       "      <td>04/19/19 08:46</td>\n",
       "      <td>917 1st St, Dallas, TX 75001</td>\n",
       "    </tr>\n",
       "    <tr>\n",
       "      <th>1</th>\n",
       "      <td>NaN</td>\n",
       "      <td>NaN</td>\n",
       "      <td>NaN</td>\n",
       "      <td>NaN</td>\n",
       "      <td>NaN</td>\n",
       "      <td>NaN</td>\n",
       "    </tr>\n",
       "    <tr>\n",
       "      <th>2</th>\n",
       "      <td>176559</td>\n",
       "      <td>Bose SoundSport Headphones</td>\n",
       "      <td>1</td>\n",
       "      <td>99.99</td>\n",
       "      <td>04/07/19 22:30</td>\n",
       "      <td>682 Chestnut St, Boston, MA 02215</td>\n",
       "    </tr>\n",
       "  </tbody>\n",
       "</table>\n",
       "</div>"
      ],
      "text/plain": [
       "  Order ID                     Product Quantity Ordered Price Each  \\\n",
       "0   176558        USB-C Charging Cable                2      11.95   \n",
       "1      NaN                         NaN              NaN        NaN   \n",
       "2   176559  Bose SoundSport Headphones                1      99.99   \n",
       "\n",
       "       Order Date                   Purchase Address  \n",
       "0  04/19/19 08:46       917 1st St, Dallas, TX 75001  \n",
       "1             NaN                                NaN  \n",
       "2  04/07/19 22:30  682 Chestnut St, Boston, MA 02215  "
      ]
     },
     "execution_count": 2,
     "metadata": {},
     "output_type": "execute_result"
    }
   ],
   "source": [
    "SSale = pd.read_csv('SSale.csv')\n",
    "SSale.head(3)"
   ]
  },
  {
   "cell_type": "code",
   "execution_count": 3,
   "metadata": {},
   "outputs": [],
   "source": [
    "SSale.columns = [re.sub(r'([^A-z])',r'_',x).lower() for x in SSale.columns]"
   ]
  },
  {
   "cell_type": "code",
   "execution_count": 4,
   "metadata": {},
   "outputs": [
    {
     "data": {
      "text/plain": [
       "Index(['order_id', 'product', 'quantity_ordered', 'price_each', 'order_date',\n",
       "       'purchase_address'],\n",
       "      dtype='object')"
      ]
     },
     "execution_count": 4,
     "metadata": {},
     "output_type": "execute_result"
    }
   ],
   "source": [
    "SSale.columns"
   ]
  },
  {
   "cell_type": "code",
   "execution_count": 5,
   "metadata": {},
   "outputs": [
    {
     "data": {
      "text/plain": [
       "(186850, 6)"
      ]
     },
     "execution_count": 5,
     "metadata": {},
     "output_type": "execute_result"
    }
   ],
   "source": [
    "SSale.shape"
   ]
  },
  {
   "cell_type": "code",
   "execution_count": 6,
   "metadata": {},
   "outputs": [
    {
     "name": "stdout",
     "output_type": "stream",
     "text": [
      "<class 'pandas.core.frame.DataFrame'>\n",
      "RangeIndex: 186850 entries, 0 to 186849\n",
      "Data columns (total 6 columns):\n",
      "order_id            186305 non-null object\n",
      "product             186305 non-null object\n",
      "quantity_ordered    186305 non-null object\n",
      "price_each          186305 non-null object\n",
      "order_date          186305 non-null object\n",
      "purchase_address    186305 non-null object\n",
      "dtypes: object(6)\n",
      "memory usage: 8.6+ MB\n"
     ]
    }
   ],
   "source": [
    "SSale.info()"
   ]
  },
  {
   "cell_type": "code",
   "execution_count": 7,
   "metadata": {},
   "outputs": [],
   "source": [
    "SSale['order_id'] = pd.to_numeric(SSale['order_id'], errors ='coerce')"
   ]
  },
  {
   "cell_type": "code",
   "execution_count": 8,
   "metadata": {},
   "outputs": [],
   "source": [
    "SSale['price_each'] = pd.to_numeric(SSale['price_each'], errors ='coerce')"
   ]
  },
  {
   "cell_type": "code",
   "execution_count": 9,
   "metadata": {},
   "outputs": [],
   "source": [
    "SSale['quantity_ordered'] = pd.to_numeric(SSale['quantity_ordered'], errors = 'coerce')"
   ]
  },
  {
   "cell_type": "code",
   "execution_count": 10,
   "metadata": {},
   "outputs": [],
   "source": [
    "\n",
    "SSale['order_date'] = SSale['order_date'].replace({'Order Date':np.nan})"
   ]
  },
  {
   "cell_type": "code",
   "execution_count": 11,
   "metadata": {},
   "outputs": [],
   "source": [
    "SSale['purchase_address'] = SSale['purchase_address'].replace({'Purchase Address':np.nan})"
   ]
  },
  {
   "cell_type": "code",
   "execution_count": 12,
   "metadata": {},
   "outputs": [],
   "source": [
    "simp = SimpleImputer(missing_values = NaN,strategy = 'most_frequent')\n",
    "simp.fit(SSale['order_date'].values.reshape(-1,1))\n",
    "SSale['order_date'] = simp.transform(SSale['order_date'].values.reshape(-1,1))"
   ]
  },
  {
   "cell_type": "code",
   "execution_count": 13,
   "metadata": {},
   "outputs": [
    {
     "name": "stdout",
     "output_type": "stream",
     "text": [
      "<class 'pandas.core.frame.DataFrame'>\n",
      "RangeIndex: 186850 entries, 0 to 186849\n",
      "Data columns (total 6 columns):\n",
      "order_id            185950 non-null float64\n",
      "product             186305 non-null object\n",
      "quantity_ordered    185950 non-null float64\n",
      "price_each          185950 non-null float64\n",
      "order_date          186850 non-null object\n",
      "purchase_address    185950 non-null object\n",
      "dtypes: float64(3), object(3)\n",
      "memory usage: 8.6+ MB\n"
     ]
    }
   ],
   "source": [
    "SSale.info()"
   ]
  },
  {
   "cell_type": "code",
   "execution_count": 14,
   "metadata": {},
   "outputs": [
    {
     "data": {
      "text/html": [
       "<div>\n",
       "<style scoped>\n",
       "    .dataframe tbody tr th:only-of-type {\n",
       "        vertical-align: middle;\n",
       "    }\n",
       "\n",
       "    .dataframe tbody tr th {\n",
       "        vertical-align: top;\n",
       "    }\n",
       "\n",
       "    .dataframe thead th {\n",
       "        text-align: right;\n",
       "    }\n",
       "</style>\n",
       "<table border=\"1\" class=\"dataframe\">\n",
       "  <thead>\n",
       "    <tr style=\"text-align: right;\">\n",
       "      <th></th>\n",
       "      <th>product</th>\n",
       "      <th>order_date</th>\n",
       "      <th>purchase_address</th>\n",
       "    </tr>\n",
       "  </thead>\n",
       "  <tbody>\n",
       "    <tr>\n",
       "      <th>count</th>\n",
       "      <td>186305</td>\n",
       "      <td>186850</td>\n",
       "      <td>185950</td>\n",
       "    </tr>\n",
       "    <tr>\n",
       "      <th>unique</th>\n",
       "      <td>20</td>\n",
       "      <td>142395</td>\n",
       "      <td>140787</td>\n",
       "    </tr>\n",
       "    <tr>\n",
       "      <th>top</th>\n",
       "      <td>USB-C Charging Cable</td>\n",
       "      <td>12/15/19 20:16</td>\n",
       "      <td>193 Forest St, San Francisco, CA 94016</td>\n",
       "    </tr>\n",
       "    <tr>\n",
       "      <th>freq</th>\n",
       "      <td>21903</td>\n",
       "      <td>908</td>\n",
       "      <td>9</td>\n",
       "    </tr>\n",
       "  </tbody>\n",
       "</table>\n",
       "</div>"
      ],
      "text/plain": [
       "                     product      order_date  \\\n",
       "count                 186305          186850   \n",
       "unique                    20          142395   \n",
       "top     USB-C Charging Cable  12/15/19 20:16   \n",
       "freq                   21903             908   \n",
       "\n",
       "                              purchase_address  \n",
       "count                                   185950  \n",
       "unique                                  140787  \n",
       "top     193 Forest St, San Francisco, CA 94016  \n",
       "freq                                         9  "
      ]
     },
     "execution_count": 14,
     "metadata": {},
     "output_type": "execute_result"
    }
   ],
   "source": [
    "SSale.describe(include = object)"
   ]
  },
  {
   "cell_type": "code",
   "execution_count": 15,
   "metadata": {},
   "outputs": [
    {
     "data": {
      "text/plain": [
       "order_id            900\n",
       "product             545\n",
       "quantity_ordered    900\n",
       "price_each          900\n",
       "order_date            0\n",
       "purchase_address    900\n",
       "dtype: int64"
      ]
     },
     "execution_count": 15,
     "metadata": {},
     "output_type": "execute_result"
    }
   ],
   "source": [
    "missing = SSale.isnull().sum()\n",
    "missing"
   ]
  },
  {
   "cell_type": "markdown",
   "metadata": {},
   "source": [
    "### Handling missing data using MICE which is the most suitable method"
   ]
  },
  {
   "cell_type": "code",
   "execution_count": 16,
   "metadata": {},
   "outputs": [],
   "source": [
    "simp = SimpleImputer(missing_values = NaN,strategy = 'median')\n",
    "simp.fit(SSale['price_each'].values.reshape(-1,1))\n",
    "SSale['price_each'] = simp.transform(SSale['price_each'].values.reshape(-1,1))"
   ]
  },
  {
   "cell_type": "code",
   "execution_count": 17,
   "metadata": {},
   "outputs": [],
   "source": [
    "simp = SimpleImputer(missing_values = NaN,strategy = 'most_frequent')\n",
    "simp.fit(SSale['purchase_address'].values.reshape(-1,1))\n",
    "SSale['purchase_address'] = simp.transform(SSale['purchase_address'].values.reshape(-1,1))"
   ]
  },
  {
   "cell_type": "code",
   "execution_count": 18,
   "metadata": {},
   "outputs": [],
   "source": [
    "imp = SimpleImputer(missing_values = NaN,strategy = 'median')\n",
    "imp.fit(SSale['order_id'].values.reshape(-1,1))\n",
    "SSale['order_id'] = imp.transform(SSale['order_id'].values.reshape(-1,1))"
   ]
  },
  {
   "cell_type": "code",
   "execution_count": 19,
   "metadata": {},
   "outputs": [],
   "source": [
    "imp =IterativeImputer(max_iter = 100,random_state = 0)\n",
    "imp.fit(SSale['quantity_ordered'].values.reshape(-1,1))\n",
    "SSale['quantity_ordered'] = imp.transform(SSale['quantity_ordered'].values.reshape(-1,1))"
   ]
  },
  {
   "cell_type": "code",
   "execution_count": 20,
   "metadata": {},
   "outputs": [],
   "source": [
    "simp = SimpleImputer(missing_values = NaN,strategy = 'most_frequent')\n",
    "simp.fit(SSale['product'].values.reshape(-1,1))\n",
    "SSale['product'] = simp.transform(SSale['product'].values.reshape(-1,1))"
   ]
  },
  {
   "cell_type": "code",
   "execution_count": 21,
   "metadata": {},
   "outputs": [
    {
     "data": {
      "text/plain": [
       "order_id            0\n",
       "product             0\n",
       "quantity_ordered    0\n",
       "price_each          0\n",
       "order_date          0\n",
       "purchase_address    0\n",
       "dtype: int64"
      ]
     },
     "execution_count": 21,
     "metadata": {},
     "output_type": "execute_result"
    }
   ],
   "source": [
    "SSale.isnull().sum()"
   ]
  },
  {
   "cell_type": "markdown",
   "metadata": {},
   "source": [
    "### data type conversions and creating new month"
   ]
  },
  {
   "cell_type": "code",
   "execution_count": 43,
   "metadata": {},
   "outputs": [],
   "source": [
    "SSale['Month'] = pd.to_datetime(SSale['order_date']).dt.month"
   ]
  },
  {
   "cell_type": "markdown",
   "metadata": {},
   "source": [
    "## creating new column for sales"
   ]
  },
  {
   "cell_type": "code",
   "execution_count": 23,
   "metadata": {},
   "outputs": [],
   "source": [
    "SSale['Sales'] = SSale['quantity_ordered']*SSale['price_each']"
   ]
  },
  {
   "cell_type": "markdown",
   "metadata": {},
   "source": [
    "### month with highest sales"
   ]
  },
  {
   "cell_type": "code",
   "execution_count": 52,
   "metadata": {},
   "outputs": [],
   "source": [
    "rec = SSale.groupby('Month').sum()['Sales']\n"
   ]
  },
  {
   "cell_type": "code",
   "execution_count": 47,
   "metadata": {},
   "outputs": [],
   "source": [
    "mon = [month for month,df in SSale.groupby('Month')]"
   ]
  },
  {
   "cell_type": "code",
   "execution_count": 50,
   "metadata": {},
   "outputs": [
    {
     "data": {
      "image/png": "[encoded data removed]",
      "text/plain": [
       "<Figure size 432x288 with 1 Axes>"
      ]
     },
     "metadata": {
      "needs_background": "light"
     },
     "output_type": "display_data"
    }
   ],
   "source": [
    "from matplotlib import pyplot as plt\n",
    "import datetime\n",
    "plt.bar(mon,rec)\n",
    "plt.xticks(mon)\n",
    "plt.xlabel('Months')\n",
    "plt.ylabel('Salesin US dollar')\n",
    "plt.show()"
   ]
  },
  {
   "cell_type": "markdown",
   "metadata": {},
   "source": [
    "### creating city that recorded highest sales"
   ]
  },
  {
   "cell_type": "code",
   "execution_count": 27,
   "metadata": {},
   "outputs": [],
   "source": [
    "def my_city(address):\n",
    "    return address.split(',')[1]\n",
    "def my_state(address):\n",
    "    return address.split(',')[2]"
   ]
  },
  {
   "cell_type": "code",
   "execution_count": 28,
   "metadata": {},
   "outputs": [
    {
     "data": {
      "text/html": [
       "<div>\n",
       "<style scoped>\n",
       "    .dataframe tbody tr th:only-of-type {\n",
       "        vertical-align: middle;\n",
       "    }\n",
       "\n",
       "    .dataframe tbody tr th {\n",
       "        vertical-align: top;\n",
       "    }\n",
       "\n",
       "    .dataframe thead th {\n",
       "        text-align: right;\n",
       "    }\n",
       "</style>\n",
       "<table border=\"1\" class=\"dataframe\">\n",
       "  <thead>\n",
       "    <tr style=\"text-align: right;\">\n",
       "      <th></th>\n",
       "      <th>order_id</th>\n",
       "      <th>product</th>\n",
       "      <th>quantity_ordered</th>\n",
       "      <th>price_each</th>\n",
       "      <th>order_date</th>\n",
       "      <th>purchase_address</th>\n",
       "      <th>Month</th>\n",
       "      <th>Sales</th>\n",
       "    </tr>\n",
       "  </thead>\n",
       "  <tbody>\n",
       "    <tr>\n",
       "      <th>0</th>\n",
       "      <td>176558.0</td>\n",
       "      <td>USB-C Charging Cable</td>\n",
       "      <td>2.000000</td>\n",
       "      <td>11.95</td>\n",
       "      <td>04/19/19 08:46</td>\n",
       "      <td>917 1st St, Dallas, TX 75001</td>\n",
       "      <td>4</td>\n",
       "      <td>23.900000</td>\n",
       "    </tr>\n",
       "    <tr>\n",
       "      <th>1</th>\n",
       "      <td>230367.5</td>\n",
       "      <td>USB-C Charging Cable</td>\n",
       "      <td>1.124383</td>\n",
       "      <td>14.95</td>\n",
       "      <td>12/15/19 20:16</td>\n",
       "      <td>193 Forest St, San Francisco, CA 94016</td>\n",
       "      <td>12</td>\n",
       "      <td>16.809524</td>\n",
       "    </tr>\n",
       "    <tr>\n",
       "      <th>2</th>\n",
       "      <td>176559.0</td>\n",
       "      <td>Bose SoundSport Headphones</td>\n",
       "      <td>1.000000</td>\n",
       "      <td>99.99</td>\n",
       "      <td>04/07/19 22:30</td>\n",
       "      <td>682 Chestnut St, Boston, MA 02215</td>\n",
       "      <td>4</td>\n",
       "      <td>99.990000</td>\n",
       "    </tr>\n",
       "    <tr>\n",
       "      <th>3</th>\n",
       "      <td>176560.0</td>\n",
       "      <td>Google Phone</td>\n",
       "      <td>1.000000</td>\n",
       "      <td>600.00</td>\n",
       "      <td>04/12/19 14:38</td>\n",
       "      <td>669 Spruce St, Los Angeles, CA 90001</td>\n",
       "      <td>4</td>\n",
       "      <td>600.000000</td>\n",
       "    </tr>\n",
       "    <tr>\n",
       "      <th>4</th>\n",
       "      <td>176560.0</td>\n",
       "      <td>Wired Headphones</td>\n",
       "      <td>1.000000</td>\n",
       "      <td>11.99</td>\n",
       "      <td>04/12/19 14:38</td>\n",
       "      <td>669 Spruce St, Los Angeles, CA 90001</td>\n",
       "      <td>4</td>\n",
       "      <td>11.990000</td>\n",
       "    </tr>\n",
       "  </tbody>\n",
       "</table>\n",
       "</div>"
      ],
      "text/plain": [
       "   order_id                     product  quantity_ordered  price_each  \\\n",
       "0  176558.0        USB-C Charging Cable          2.000000       11.95   \n",
       "1  230367.5        USB-C Charging Cable          1.124383       14.95   \n",
       "2  176559.0  Bose SoundSport Headphones          1.000000       99.99   \n",
       "3  176560.0                Google Phone          1.000000      600.00   \n",
       "4  176560.0            Wired Headphones          1.000000       11.99   \n",
       "\n",
       "       order_date                        purchase_address  Month       Sales  \n",
       "0  04/19/19 08:46            917 1st St, Dallas, TX 75001      4   23.900000  \n",
       "1  12/15/19 20:16  193 Forest St, San Francisco, CA 94016     12   16.809524  \n",
       "2  04/07/19 22:30       682 Chestnut St, Boston, MA 02215      4   99.990000  \n",
       "3  04/12/19 14:38    669 Spruce St, Los Angeles, CA 90001      4  600.000000  \n",
       "4  04/12/19 14:38    669 Spruce St, Los Angeles, CA 90001      4   11.990000  "
      ]
     },
     "execution_count": 28,
     "metadata": {},
     "output_type": "execute_result"
    }
   ],
   "source": [
    "SSale.head()"
   ]
  },
  {
   "cell_type": "code",
   "execution_count": 29,
   "metadata": {},
   "outputs": [],
   "source": [
    "SSale['city'] = SSale['purchase_address'].apply(lambda x: my_city(x)+\",\"+my_state(x))\n"
   ]
  },
  {
   "cell_type": "code",
   "execution_count": 30,
   "metadata": {},
   "outputs": [],
   "source": [
    "rec = SSale.groupby('city').sum()"
   ]
  },
  {
   "cell_type": "markdown",
   "metadata": {},
   "source": [
    "## To grab all the cities for plotting we use [city for city,df in filename.groupby('city]"
   ]
  },
  {
   "cell_type": "code",
   "execution_count": 31,
   "metadata": {},
   "outputs": [
    {
     "data": {
      "image/png": "[encoded data removed]",
      "text/plain": [
       "<Figure size 432x288 with 1 Axes>"
      ]
     },
     "metadata": {
      "needs_background": "light"
     },
     "output_type": "display_data"
    }
   ],
   "source": [
    "cities = [city for city, df in SSale.groupby('city')]\n",
    "plt.bar(cities,rec['Sales'])\n",
    "plt.xticks(cities, rotation = 'vertical',size = 10)\n",
    "plt.xlabel('cities')\n",
    "plt.ylabel('sales')\n",
    "plt.show()"
   ]
  },
  {
   "cell_type": "markdown",
   "metadata": {},
   "source": [
    "#### time to display adverts for posibilities of high sales"
   ]
  },
  {
   "cell_type": "code",
   "execution_count": 32,
   "metadata": {},
   "outputs": [],
   "source": [
    "SSale['Hour'] = pd.to_datetime(SSale['order_date']).dt.hour"
   ]
  },
  {
   "cell_type": "code",
   "execution_count": 33,
   "metadata": {},
   "outputs": [],
   "source": [
    "SSale['Minute'] = pd.to_datetime(SSale['order_date']).dt.minute\n"
   ]
  },
  {
   "cell_type": "code",
   "execution_count": 34,
   "metadata": {},
   "outputs": [
    {
     "data": {
      "text/html": [
       "<div>\n",
       "<style scoped>\n",
       "    .dataframe tbody tr th:only-of-type {\n",
       "        vertical-align: middle;\n",
       "    }\n",
       "\n",
       "    .dataframe tbody tr th {\n",
       "        vertical-align: top;\n",
       "    }\n",
       "\n",
       "    .dataframe thead th {\n",
       "        text-align: right;\n",
       "    }\n",
       "</style>\n",
       "<table border=\"1\" class=\"dataframe\">\n",
       "  <thead>\n",
       "    <tr style=\"text-align: right;\">\n",
       "      <th></th>\n",
       "      <th>order_id</th>\n",
       "      <th>product</th>\n",
       "      <th>quantity_ordered</th>\n",
       "      <th>price_each</th>\n",
       "      <th>order_date</th>\n",
       "      <th>purchase_address</th>\n",
       "      <th>Month</th>\n",
       "      <th>Sales</th>\n",
       "      <th>city</th>\n",
       "      <th>Hour</th>\n",
       "      <th>Minute</th>\n",
       "    </tr>\n",
       "  </thead>\n",
       "  <tbody>\n",
       "    <tr>\n",
       "      <th>0</th>\n",
       "      <td>176558.0</td>\n",
       "      <td>USB-C Charging Cable</td>\n",
       "      <td>2.000000</td>\n",
       "      <td>11.95</td>\n",
       "      <td>04/19/19 08:46</td>\n",
       "      <td>917 1st St, Dallas, TX 75001</td>\n",
       "      <td>4</td>\n",
       "      <td>23.900000</td>\n",
       "      <td>Dallas, TX 75001</td>\n",
       "      <td>8</td>\n",
       "      <td>46</td>\n",
       "    </tr>\n",
       "    <tr>\n",
       "      <th>1</th>\n",
       "      <td>230367.5</td>\n",
       "      <td>USB-C Charging Cable</td>\n",
       "      <td>1.124383</td>\n",
       "      <td>14.95</td>\n",
       "      <td>12/15/19 20:16</td>\n",
       "      <td>193 Forest St, San Francisco, CA 94016</td>\n",
       "      <td>12</td>\n",
       "      <td>16.809524</td>\n",
       "      <td>San Francisco, CA 94016</td>\n",
       "      <td>20</td>\n",
       "      <td>16</td>\n",
       "    </tr>\n",
       "    <tr>\n",
       "      <th>2</th>\n",
       "      <td>176559.0</td>\n",
       "      <td>Bose SoundSport Headphones</td>\n",
       "      <td>1.000000</td>\n",
       "      <td>99.99</td>\n",
       "      <td>04/07/19 22:30</td>\n",
       "      <td>682 Chestnut St, Boston, MA 02215</td>\n",
       "      <td>4</td>\n",
       "      <td>99.990000</td>\n",
       "      <td>Boston, MA 02215</td>\n",
       "      <td>22</td>\n",
       "      <td>30</td>\n",
       "    </tr>\n",
       "  </tbody>\n",
       "</table>\n",
       "</div>"
      ],
      "text/plain": [
       "   order_id                     product  quantity_ordered  price_each  \\\n",
       "0  176558.0        USB-C Charging Cable          2.000000       11.95   \n",
       "1  230367.5        USB-C Charging Cable          1.124383       14.95   \n",
       "2  176559.0  Bose SoundSport Headphones          1.000000       99.99   \n",
       "\n",
       "       order_date                        purchase_address  Month      Sales  \\\n",
       "0  04/19/19 08:46            917 1st St, Dallas, TX 75001      4  23.900000   \n",
       "1  12/15/19 20:16  193 Forest St, San Francisco, CA 94016     12  16.809524   \n",
       "2  04/07/19 22:30       682 Chestnut St, Boston, MA 02215      4  99.990000   \n",
       "\n",
       "                       city  Hour  Minute  \n",
       "0          Dallas, TX 75001     8      46  \n",
       "1   San Francisco, CA 94016    20      16  \n",
       "2          Boston, MA 02215    22      30  "
      ]
     },
     "execution_count": 34,
     "metadata": {},
     "output_type": "execute_result"
    }
   ],
   "source": [
    "SSale.head(3)"
   ]
  },
  {
   "cell_type": "code",
   "execution_count": 35,
   "metadata": {},
   "outputs": [],
   "source": [
    "res = SSale.groupby('Hour').count()"
   ]
  },
  {
   "cell_type": "code",
   "execution_count": 36,
   "metadata": {},
   "outputs": [
    {
     "data": {
      "image/png": "[encoded data removed]",
      "text/plain": [
       "<Figure size 432x288 with 1 Axes>"
      ]
     },
     "metadata": {
      "needs_background": "light"
     },
     "output_type": "display_data"
    }
   ],
   "source": [
    "hours = [hour for hour, df in SSale.groupby('Hour')]\n",
    "plt.plot(hours,res)\n",
    "plt.xticks(hours)\n",
    "plt.grid()\n",
    "plt.show()"
   ]
  },
  {
   "cell_type": "markdown",
   "metadata": {},
   "source": [
    "#### What product sold most"
   ]
  },
  {
   "cell_type": "code",
   "execution_count": 37,
   "metadata": {},
   "outputs": [],
   "source": [
    "prices = SSale.groupby('product').sum()['price_each']"
   ]
  },
  {
   "cell_type": "code",
   "execution_count": 38,
   "metadata": {},
   "outputs": [],
   "source": [
    "resd = SSale.groupby('product').sum()['quantity_ordered']"
   ]
  },
  {
   "cell_type": "code",
   "execution_count": 39,
   "metadata": {},
   "outputs": [
    {
     "data": {
      "image/png": "[encoded data removed]",
      "text/plain": [
       "<Figure size 432x288 with 2 Axes>"
      ]
     },
     "metadata": {
      "needs_background": "light"
     },
     "output_type": "display_data"
    }
   ],
   "source": [
    "fig = plt.figure()\n",
    "ax1 = fig.subplots()\n",
    "ax2 = ax1.twinx()\n",
    "products = [product for product,df in SSale.groupby('product')]\n",
    "ax1.bar(products,resd)\n",
    "ax2.plot(products,prices)\n",
    "ax1.set_xticklabels(products, rotation = 'vertical', size = 8)\n",
    "ax1.grid()\n",
    "plt.show()\n"
   ]
  }
 ],
 "metadata": {
  "kernelspec": {
   "display_name": "Python 3",
   "language": "python",
   "name": "python3"
  },
  "language_info": {
   "codemirror_mode": {
    "name": "ipython",
    "version": 3
   },
   "file_extension": ".py",
   "mimetype": "text/x-python",
   "name": "python",
   "nbconvert_exporter": "python",
   "pygments_lexer": "ipython3",
   "version": "3.7.3"
  }
 },
 "nbformat": 4,
 "nbformat_minor": 2
}
